{
 "cells": [
  {
   "cell_type": "markdown",
   "metadata": {},
   "source": [
    "# Examples depicting the visualization and analysis of Retinal neuron data from mouse brain"
   ]
  },
  {
   "cell_type": "markdown",
   "metadata": {},
   "source": [
    "This notebook can be viewed with 3-d plots at https://nbviewer.jupyter.org/github/jefferis/nat.examples/blob/master/notebooks/helmstaedter2013_Mouse_RetinalConnectome.ipynb"
   ]
  },
  {
   "cell_type": "code",
   "execution_count": 1,
   "metadata": {},
   "outputs": [
    {
     "name": "stderr",
     "output_type": "stream",
     "text": [
      "Registered S3 method overwritten by 'R.oo':\n",
      "  method        from       \n",
      "  throw.default R.methodsS3\n",
      "R.matlab v3.6.2 (2018-09-26) successfully loaded. See ?R.matlab for help.\n",
      "\n",
      "Attaching package: ‘R.matlab’\n",
      "\n",
      "The following objects are masked from ‘package:base’:\n",
      "\n",
      "    getOption, isOpen\n",
      "\n",
      "gdata: read.xls support for 'XLS' (Excel 97-2004) files ENABLED.\n",
      "\n",
      "gdata: read.xls support for 'XLSX' (Excel 2007+) files ENABLED.\n",
      "\n",
      "Attaching package: ‘gdata’\n",
      "\n",
      "The following object is masked from ‘package:stats’:\n",
      "\n",
      "    nobs\n",
      "\n",
      "The following object is masked from ‘package:utils’:\n",
      "\n",
      "    object.size\n",
      "\n",
      "The following object is masked from ‘package:base’:\n",
      "\n",
      "    startsWith\n",
      "\n"
     ]
    }
   ],
   "source": [
    "library('curl')\n",
    "library('R.matlab')\n",
    "library('gdata')"
   ]
  },
  {
   "cell_type": "markdown",
   "metadata": {},
   "source": [
    "## Step 1: Download data"
   ]
  },
  {
   "cell_type": "code",
   "execution_count": 2,
   "metadata": {},
   "outputs": [],
   "source": [
    "# Set up URLs for data download..\n",
    "download_urls <- c('http://neuro.rzg.mpg.de/download/Helmstaedter_et_al_Nature_2013_skeletons_contacts_matrices.mat',\n",
    "                   'https://media.nature.com/original/nature-assets/nature/journal/v500/n7461/extref/nature12346-s3.zip')"
   ]
  },
  {
   "cell_type": "code",
   "execution_count": 3,
   "metadata": {},
   "outputs": [],
   "source": [
    "# Set up Folder name insides 'natverse_examples'..\n",
    "dataset_name <- 'natverse_mouseconnectome'"
   ]
  },
  {
   "cell_type": "code",
   "execution_count": 4,
   "metadata": {},
   "outputs": [
    {
     "name": "stderr",
     "output_type": "stream",
     "text": [
      "Setting options\n"
     ]
    }
   ],
   "source": [
    "download_filename <- basename(download_urls)\n",
    "if (is.null(getOption(dataset_name))){\n",
    "    message(\"Setting options\")\n",
    "    options(natverse_examples=rappdirs::user_data_dir('R/natverse_examples'))\n",
    "  }"
   ]
  },
  {
   "cell_type": "code",
   "execution_count": 5,
   "metadata": {},
   "outputs": [
    {
     "name": "stderr",
     "output_type": "stream",
     "text": [
      "Dataset path:/Users/sri/Library/Application Support/R/natverse_examples/natverse_mouseconnectome\n"
     ]
    }
   ],
   "source": [
    "dataset_path <- file.path(getOption('natverse_examples'),dataset_name)\n",
    "message(\"Dataset path:\", dataset_path)"
   ]
  },
  {
   "cell_type": "code",
   "execution_count": 6,
   "metadata": {},
   "outputs": [],
   "source": [
    "if (!dir.exists(dataset_path)){\n",
    "    message(\"Creating folder: \", basename(dataset_path))\n",
    "    dir.create(dataset_path, recursive = TRUE, showWarnings = FALSE)\n",
    "  }"
   ]
  },
  {
   "cell_type": "code",
   "execution_count": 7,
   "metadata": {},
   "outputs": [
    {
     "name": "stderr",
     "output_type": "stream",
     "text": [
      "Downloading files to: /Users/sri/Library/Application Support/R/natverse_examples/natverse_mouseconnectome\n",
      "Downloads done\n"
     ]
    }
   ],
   "source": [
    "downloaded_dataset <- ''\n",
    "if(length(download_urls))\n",
    "    message(\"Downloading files to: \", dataset_path)\n",
    "for (download_fileidx in 1:length(download_urls)){\n",
    "        localfile <- file.path(dataset_path, download_filename[download_fileidx])\n",
    "        downloaded_dataset[download_fileidx] <- localfile\n",
    "        if(file.exists(localfile)) next\n",
    "        message(\"Processing URL: \", download_urls[download_fileidx], \" (file \", download_fileidx, \"/\", length(download_urls), \")\")\n",
    "        curl::curl_download(download_urls[download_fileidx], localfile, quiet=FALSE)\n",
    "      }\n",
    "message(\"Downloads done\")"
   ]
  },
  {
   "cell_type": "code",
   "execution_count": 8,
   "metadata": {},
   "outputs": [
    {
     "name": "stderr",
     "output_type": "stream",
     "text": [
      "Dataset downloaded at: \n",
      "/Users/sri/Library/Application Support/R/natverse_examples/natverse_mouseconnectome/Helmstaedter_et_al_Nature_2013_skeletons_contacts_matrices.mat\n",
      "/Users/sri/Library/Application Support/R/natverse_examples/natverse_mouseconnectome/nature12346-s3.zip\n"
     ]
    }
   ],
   "source": [
    "message(paste(c(\"Dataset downloaded at: \", downloaded_dataset), collapse=\"\\n\"))"
   ]
  },
  {
   "cell_type": "markdown",
   "metadata": {},
   "source": [
    "## Step 2: Save intermediate `r` objects from `mat` format"
   ]
  },
  {
   "cell_type": "code",
   "execution_count": 9,
   "metadata": {},
   "outputs": [],
   "source": [
    "raw_data <- R.matlab::readMat(downloaded_dataset[1])"
   ]
  },
  {
   "cell_type": "code",
   "execution_count": 10,
   "metadata": {},
   "outputs": [
    {
     "data": {
      "text/html": [
       "<ol class=list-inline>\n",
       "\t<li>'kn.e2006.ALLSKELETONS.FINAL2012'</li>\n",
       "\t<li>'kn.e2006.ALLSKELETONS.FINAL2012.cellIDs'</li>\n",
       "\t<li>'kn.e2006.ALLSKELETONS.FINAL2012.globalTypeIDs.REDOMAR2013'</li>\n",
       "\t<li>'kn.e2006.ALLSKELETONS.FINAL2012.cellIDs.pure.forSomata'</li>\n",
       "\t<li>'kn.e2006.ALLSKELETONS.FINAL2012.allSomata'</li>\n",
       "\t<li>'kn.e2006.ALLSKELETONS.FINAL2012.sortOrderTypes.byDepth.MAR2013'</li>\n",
       "\t<li>'kn.e2006.ALLSKELETONS.FINAL2012.cellIDs.sortedByType.MAR2013'</li>\n",
       "\t<li>'kn.e2006.ALLSKELETONS.FINAL2012.cellIDs.sortedByTyp.MAR2013.typ'</li>\n",
       "\t<li>'kn.allContactData.Interfaces.duplCorr.sizeCorr.APR2013'</li>\n",
       "\t<li>'kn.contactAreaMx.APR2013'</li>\n",
       "\t<li>'kn.contactAreaMx.symm.APR2013'</li>\n",
       "\t<li>'kn.contactAreaMx.forDisplay.APR2013'</li>\n",
       "\t<li>'kn.e2006.typeMx.REDOAPR2013'</li>\n",
       "\t<li>'kn.e2006.typeMx.REDOAPR2013.selfNorm'</li>\n",
       "</ol>\n"
      ],
      "text/latex": [
       "\\begin{enumerate*}\n",
       "\\item 'kn.e2006.ALLSKELETONS.FINAL2012'\n",
       "\\item 'kn.e2006.ALLSKELETONS.FINAL2012.cellIDs'\n",
       "\\item 'kn.e2006.ALLSKELETONS.FINAL2012.globalTypeIDs.REDOMAR2013'\n",
       "\\item 'kn.e2006.ALLSKELETONS.FINAL2012.cellIDs.pure.forSomata'\n",
       "\\item 'kn.e2006.ALLSKELETONS.FINAL2012.allSomata'\n",
       "\\item 'kn.e2006.ALLSKELETONS.FINAL2012.sortOrderTypes.byDepth.MAR2013'\n",
       "\\item 'kn.e2006.ALLSKELETONS.FINAL2012.cellIDs.sortedByType.MAR2013'\n",
       "\\item 'kn.e2006.ALLSKELETONS.FINAL2012.cellIDs.sortedByTyp.MAR2013.typ'\n",
       "\\item 'kn.allContactData.Interfaces.duplCorr.sizeCorr.APR2013'\n",
       "\\item 'kn.contactAreaMx.APR2013'\n",
       "\\item 'kn.contactAreaMx.symm.APR2013'\n",
       "\\item 'kn.contactAreaMx.forDisplay.APR2013'\n",
       "\\item 'kn.e2006.typeMx.REDOAPR2013'\n",
       "\\item 'kn.e2006.typeMx.REDOAPR2013.selfNorm'\n",
       "\\end{enumerate*}\n"
      ],
      "text/markdown": [
       "1. 'kn.e2006.ALLSKELETONS.FINAL2012'\n",
       "2. 'kn.e2006.ALLSKELETONS.FINAL2012.cellIDs'\n",
       "3. 'kn.e2006.ALLSKELETONS.FINAL2012.globalTypeIDs.REDOMAR2013'\n",
       "4. 'kn.e2006.ALLSKELETONS.FINAL2012.cellIDs.pure.forSomata'\n",
       "5. 'kn.e2006.ALLSKELETONS.FINAL2012.allSomata'\n",
       "6. 'kn.e2006.ALLSKELETONS.FINAL2012.sortOrderTypes.byDepth.MAR2013'\n",
       "7. 'kn.e2006.ALLSKELETONS.FINAL2012.cellIDs.sortedByType.MAR2013'\n",
       "8. 'kn.e2006.ALLSKELETONS.FINAL2012.cellIDs.sortedByTyp.MAR2013.typ'\n",
       "9. 'kn.allContactData.Interfaces.duplCorr.sizeCorr.APR2013'\n",
       "10. 'kn.contactAreaMx.APR2013'\n",
       "11. 'kn.contactAreaMx.symm.APR2013'\n",
       "12. 'kn.contactAreaMx.forDisplay.APR2013'\n",
       "13. 'kn.e2006.typeMx.REDOAPR2013'\n",
       "14. 'kn.e2006.typeMx.REDOAPR2013.selfNorm'\n",
       "\n",
       "\n"
      ],
      "text/plain": [
       " [1] \"kn.e2006.ALLSKELETONS.FINAL2012\"                                \n",
       " [2] \"kn.e2006.ALLSKELETONS.FINAL2012.cellIDs\"                        \n",
       " [3] \"kn.e2006.ALLSKELETONS.FINAL2012.globalTypeIDs.REDOMAR2013\"      \n",
       " [4] \"kn.e2006.ALLSKELETONS.FINAL2012.cellIDs.pure.forSomata\"         \n",
       " [5] \"kn.e2006.ALLSKELETONS.FINAL2012.allSomata\"                      \n",
       " [6] \"kn.e2006.ALLSKELETONS.FINAL2012.sortOrderTypes.byDepth.MAR2013\" \n",
       " [7] \"kn.e2006.ALLSKELETONS.FINAL2012.cellIDs.sortedByType.MAR2013\"   \n",
       " [8] \"kn.e2006.ALLSKELETONS.FINAL2012.cellIDs.sortedByTyp.MAR2013.typ\"\n",
       " [9] \"kn.allContactData.Interfaces.duplCorr.sizeCorr.APR2013\"         \n",
       "[10] \"kn.contactAreaMx.APR2013\"                                       \n",
       "[11] \"kn.contactAreaMx.symm.APR2013\"                                  \n",
       "[12] \"kn.contactAreaMx.forDisplay.APR2013\"                            \n",
       "[13] \"kn.e2006.typeMx.REDOAPR2013\"                                    \n",
       "[14] \"kn.e2006.typeMx.REDOAPR2013.selfNorm\"                           "
      ]
     },
     "metadata": {},
     "output_type": "display_data"
    }
   ],
   "source": [
    "names(raw_data)"
   ]
  },
  {
   "cell_type": "markdown",
   "metadata": {},
   "source": [
    "### Save metadata (like cellIDs, globalTypeIDs) from skeleton"
   ]
  },
  {
   "cell_type": "code",
   "execution_count": 11,
   "metadata": {},
   "outputs": [],
   "source": [
    "skeleton_metadata <- raw_data[2:8]\n",
    "saveRDS(skeleton_metadata, file=file.path(dataset_path,'skeleton_metadata.rds'))"
   ]
  },
  {
   "cell_type": "code",
   "execution_count": 12,
   "metadata": {},
   "outputs": [],
   "source": [
    "skall <- raw_data$kn.e2006.ALLSKELETONS.FINAL2012"
   ]
  },
  {
   "cell_type": "code",
   "execution_count": 13,
   "metadata": {},
   "outputs": [
    {
     "data": {
      "text/html": [
       "<ol class=list-inline>\n",
       "\t<li>'parameters'</li>\n",
       "\t<li>'commentsString'</li>\n",
       "\t<li>'nodes'</li>\n",
       "\t<li>'nodesNumDataAll'</li>\n",
       "\t<li>'edges'</li>\n",
       "\t<li>'thingID'</li>\n",
       "\t<li>'branchpointsString'</li>\n",
       "\t<li>'branchpoints'</li>\n",
       "\t<li>'sanityReport'</li>\n",
       "\t<li>'edgeSel'</li>\n",
       "</ol>\n"
      ],
      "text/latex": [
       "\\begin{enumerate*}\n",
       "\\item 'parameters'\n",
       "\\item 'commentsString'\n",
       "\\item 'nodes'\n",
       "\\item 'nodesNumDataAll'\n",
       "\\item 'edges'\n",
       "\\item 'thingID'\n",
       "\\item 'branchpointsString'\n",
       "\\item 'branchpoints'\n",
       "\\item 'sanityReport'\n",
       "\\item 'edgeSel'\n",
       "\\end{enumerate*}\n"
      ],
      "text/markdown": [
       "1. 'parameters'\n",
       "2. 'commentsString'\n",
       "3. 'nodes'\n",
       "4. 'nodesNumDataAll'\n",
       "5. 'edges'\n",
       "6. 'thingID'\n",
       "7. 'branchpointsString'\n",
       "8. 'branchpoints'\n",
       "9. 'sanityReport'\n",
       "10. 'edgeSel'\n",
       "\n",
       "\n"
      ],
      "text/plain": [
       " [1] \"parameters\"         \"commentsString\"     \"nodes\"             \n",
       " [4] \"nodesNumDataAll\"    \"edges\"              \"thingID\"           \n",
       " [7] \"branchpointsString\" \"branchpoints\"       \"sanityReport\"      \n",
       "[10] \"edgeSel\"           "
      ]
     },
     "metadata": {},
     "output_type": "display_data"
    }
   ],
   "source": [
    "rownames(skall[[1]][[1]])"
   ]
  },
  {
   "cell_type": "code",
   "execution_count": 14,
   "metadata": {},
   "outputs": [],
   "source": [
    "#' Parse a single skeleton object cleaning up the rather messy structure that comes out of readMat\n",
    "parse.moritz.skel<-function(x, simple_fields_only=TRUE){\n",
    "  # delist\n",
    "  x=x[[1]]\n",
    "  stopifnot(inherits(x,'array'))\n",
    "  \n",
    "  vars=rownames(x)\n",
    "  stopifnot(all(c('nodes','edges') %in% vars))\n",
    "  \n",
    "  #simplevars=intersect(c('nodes','edges', 'edgeSel'), vars)\n",
    "  simplevars=intersect(c('nodes','edges'), vars)\n",
    "  r=sapply(simplevars, function(v) x[v,,][[1]], simplify=FALSE)\n",
    "  \n",
    "  othervars=setdiff(vars, simplevars)\n",
    "  process_var<-function(y){\n",
    "    if(inherits(y,'list')) y=y[[1]]\n",
    "    if(inherits(y,'array')) apply(y, 1, unlist) else {\n",
    "      if(is.numeric(y)) drop(y) else y\n",
    "    }\n",
    "  }\n",
    "  if(simple_fields_only)\n",
    "    structure(r, class=c('skel','list'))\n",
    "  else {\n",
    "    r2=sapply(othervars, function(v) process_var(x[v,,]), simplify = FALSE)\n",
    "    structure(c(r, r2), class=c('skel','list'))\n",
    "  }\n",
    "}"
   ]
  },
  {
   "cell_type": "code",
   "execution_count": 15,
   "metadata": {},
   "outputs": [
    {
     "name": "stderr",
     "output_type": "stream",
     "text": [
      "Registered S3 method overwritten by 'nat':\n",
      "  method             from\n",
      "  as.mesh3d.ashape3d rgl \n"
     ]
    },
    {
     "name": "stdout",
     "output_type": "stream",
     "text": [
      "  |======================================================================| 100%\n"
     ]
    }
   ],
   "source": [
    "# Convert all the neurons to intermediate skeleton format (here just a neuronlist in 'nat')\n",
    "skallp=nat::nlapply(skall, parse.moritz.skel, .progress='text')\n",
    "# give the neurons names\n",
    "names(skallp)=sprintf(\"sk%04d\", seq_along(skallp))"
   ]
  },
  {
   "cell_type": "code",
   "execution_count": 16,
   "metadata": {},
   "outputs": [],
   "source": [
    "skallp_unique <- skallp"
   ]
  },
  {
   "cell_type": "code",
   "execution_count": 17,
   "metadata": {},
   "outputs": [],
   "source": [
    "attr(skallp_unique,'df')=data.frame(\n",
    "  row.names=names(skallp_unique),\n",
    "  skid=seq.int(skallp_unique),\n",
    "  cellid=skeleton_metadata$kn.e2006.ALLSKELETONS.FINAL2012.cellIDs[1,],\n",
    "  typeid=skeleton_metadata$kn.e2006.ALLSKELETONS.FINAL2012.globalTypeIDs.REDOMAR2013[1,],\n",
    "  cellid.soma=skeleton_metadata$kn.e2006.ALLSKELETONS.FINAL2012.cellIDs.pure.forSomata[1,]\n",
    "  )"
   ]
  },
  {
   "cell_type": "code",
   "execution_count": 18,
   "metadata": {},
   "outputs": [
    {
     "data": {
      "text/html": [
       "<table>\n",
       "<caption>A data.frame: 6 × 4</caption>\n",
       "<thead>\n",
       "\t<tr><th></th><th scope=col>skid</th><th scope=col>cellid</th><th scope=col>typeid</th><th scope=col>cellid.soma</th></tr>\n",
       "\t<tr><th></th><th scope=col>&lt;int&gt;</th><th scope=col>&lt;dbl&gt;</th><th scope=col>&lt;dbl&gt;</th><th scope=col>&lt;dbl&gt;</th></tr>\n",
       "</thead>\n",
       "<tbody>\n",
       "\t<tr><th scope=row>sk0001</th><td>1</td><td>1</td><td>10204</td><td>1</td></tr>\n",
       "\t<tr><th scope=row>sk0002</th><td>2</td><td>1</td><td>10204</td><td>1</td></tr>\n",
       "\t<tr><th scope=row>sk0003</th><td>3</td><td>1</td><td>10204</td><td>1</td></tr>\n",
       "\t<tr><th scope=row>sk0004</th><td>4</td><td>1</td><td>10204</td><td>1</td></tr>\n",
       "\t<tr><th scope=row>sk0005</th><td>5</td><td>1</td><td>10204</td><td>1</td></tr>\n",
       "\t<tr><th scope=row>sk0006</th><td>6</td><td>1</td><td>10204</td><td>1</td></tr>\n",
       "</tbody>\n",
       "</table>\n"
      ],
      "text/latex": [
       "A data.frame: 6 × 4\n",
       "\\begin{tabular}{r|llll}\n",
       "  & skid & cellid & typeid & cellid.soma\\\\\n",
       "  & <int> & <dbl> & <dbl> & <dbl>\\\\\n",
       "\\hline\n",
       "\tsk0001 & 1 & 1 & 10204 & 1\\\\\n",
       "\tsk0002 & 2 & 1 & 10204 & 1\\\\\n",
       "\tsk0003 & 3 & 1 & 10204 & 1\\\\\n",
       "\tsk0004 & 4 & 1 & 10204 & 1\\\\\n",
       "\tsk0005 & 5 & 1 & 10204 & 1\\\\\n",
       "\tsk0006 & 6 & 1 & 10204 & 1\\\\\n",
       "\\end{tabular}\n"
      ],
      "text/markdown": [
       "\n",
       "A data.frame: 6 × 4\n",
       "\n",
       "| <!--/--> | skid &lt;int&gt; | cellid &lt;dbl&gt; | typeid &lt;dbl&gt; | cellid.soma &lt;dbl&gt; |\n",
       "|---|---|---|---|---|\n",
       "| sk0001 | 1 | 1 | 10204 | 1 |\n",
       "| sk0002 | 2 | 1 | 10204 | 1 |\n",
       "| sk0003 | 3 | 1 | 10204 | 1 |\n",
       "| sk0004 | 4 | 1 | 10204 | 1 |\n",
       "| sk0005 | 5 | 1 | 10204 | 1 |\n",
       "| sk0006 | 6 | 1 | 10204 | 1 |\n",
       "\n"
      ],
      "text/plain": [
       "       skid cellid typeid cellid.soma\n",
       "sk0001 1    1      10204  1          \n",
       "sk0002 2    1      10204  1          \n",
       "sk0003 3    1      10204  1          \n",
       "sk0004 4    1      10204  1          \n",
       "sk0005 5    1      10204  1          \n",
       "sk0006 6    1      10204  1          "
      ]
     },
     "metadata": {},
     "output_type": "display_data"
    }
   ],
   "source": [
    "head(attr(skallp_unique,'df'))"
   ]
  },
  {
   "cell_type": "code",
   "execution_count": 19,
   "metadata": {},
   "outputs": [],
   "source": [
    "attr(skallp_unique,'df')$nedges=sapply(skallp_unique,function(x) nrow(x$edges))"
   ]
  },
  {
   "cell_type": "code",
   "execution_count": 20,
   "metadata": {},
   "outputs": [
    {
     "name": "stderr",
     "output_type": "stream",
     "text": [
      "Number of unique cells(neurons): 1185\n"
     ]
    }
   ],
   "source": [
    "message(\"Number of unique cells(neurons): \", length(unique(attr(skallp_unique,'df')$cellid))) "
   ]
  },
  {
   "cell_type": "code",
   "execution_count": 21,
   "metadata": {},
   "outputs": [
    {
     "name": "stderr",
     "output_type": "stream",
     "text": [
      "Number of tracings: 4188\n"
     ]
    }
   ],
   "source": [
    "message(\"Number of tracings: \", length(skallp_unique)) "
   ]
  },
  {
   "cell_type": "markdown",
   "metadata": {},
   "source": [
    "### As each neuron has been traced by multiple tracers (which results in multiple skids), choose only that skid which has maximum number of edges "
   ]
  },
  {
   "cell_type": "code",
   "execution_count": 22,
   "metadata": {},
   "outputs": [],
   "source": [
    "sk.uniq_temp=skallp_unique[by(attr(skallp_unique,'df'),attr(skallp_unique,'df')$cellid,function(x) x$skid[which.max(x$nedges)])]"
   ]
  },
  {
   "cell_type": "code",
   "execution_count": 23,
   "metadata": {},
   "outputs": [
    {
     "name": "stderr",
     "output_type": "stream",
     "text": [
      "Number of tracings used: 1185\n"
     ]
    }
   ],
   "source": [
    "message(\"Number of tracings used: \", length(sk.uniq_temp))"
   ]
  },
  {
   "cell_type": "code",
   "execution_count": 24,
   "metadata": {},
   "outputs": [
    {
     "name": "stderr",
     "output_type": "stream",
     "text": [
      "Reading SI 4 spreadsheet sheet 3 ...\n",
      "Reading done\n"
     ]
    }
   ],
   "source": [
    "message(\"Reading SI 4 spreadsheet sheet 3 ...\")\n",
    "utils::unzip(downloaded_dataset[2],exdir = file.path(dataset_path, sub('\\\\.zip$', '', basename(downloaded_dataset[2]))))\n",
    "SI4.s3=gdata::read.xls(file.path(dataset_path, sub('\\\\.zip$', '', basename(downloaded_dataset[2])),'Helmstaedter_et_al_SUPPLinformation4.xlsx'), sheet=3)\n",
    "message(\"Reading done\")"
   ]
  },
  {
   "cell_type": "code",
   "execution_count": 25,
   "metadata": {},
   "outputs": [
    {
     "data": {
      "text/html": [
       "<table>\n",
       "<caption>A data.frame: 6 × 4</caption>\n",
       "<thead>\n",
       "\t<tr><th scope=col>ID.in.cell2cell.Mx</th><th scope=col>cell.ID.in.skeleton.db</th><th scope=col>internal.type.ID</th><th scope=col>sorted.type.ID..as.in.Type.Mx.</th></tr>\n",
       "\t<tr><th scope=col>&lt;int&gt;</th><th scope=col>&lt;int&gt;</th><th scope=col>&lt;int&gt;</th><th scope=col>&lt;int&gt;</th></tr>\n",
       "</thead>\n",
       "<tbody>\n",
       "\t<tr><td>1</td><td>77</td><td>201</td><td>1</td></tr>\n",
       "\t<tr><td>2</td><td>75</td><td>201</td><td>1</td></tr>\n",
       "\t<tr><td>3</td><td>16</td><td>231</td><td>2</td></tr>\n",
       "\t<tr><td>4</td><td>47</td><td>231</td><td>2</td></tr>\n",
       "\t<tr><td>5</td><td>88</td><td>231</td><td>2</td></tr>\n",
       "\t<tr><td>6</td><td>23</td><td>202</td><td>3</td></tr>\n",
       "</tbody>\n",
       "</table>\n"
      ],
      "text/latex": [
       "A data.frame: 6 × 4\n",
       "\\begin{tabular}{r|llll}\n",
       " ID.in.cell2cell.Mx & cell.ID.in.skeleton.db & internal.type.ID & sorted.type.ID..as.in.Type.Mx.\\\\\n",
       " <int> & <int> & <int> & <int>\\\\\n",
       "\\hline\n",
       "\t 1 & 77 & 201 & 1\\\\\n",
       "\t 2 & 75 & 201 & 1\\\\\n",
       "\t 3 & 16 & 231 & 2\\\\\n",
       "\t 4 & 47 & 231 & 2\\\\\n",
       "\t 5 & 88 & 231 & 2\\\\\n",
       "\t 6 & 23 & 202 & 3\\\\\n",
       "\\end{tabular}\n"
      ],
      "text/markdown": [
       "\n",
       "A data.frame: 6 × 4\n",
       "\n",
       "| ID.in.cell2cell.Mx &lt;int&gt; | cell.ID.in.skeleton.db &lt;int&gt; | internal.type.ID &lt;int&gt; | sorted.type.ID..as.in.Type.Mx. &lt;int&gt; |\n",
       "|---|---|---|---|\n",
       "| 1 | 77 | 201 | 1 |\n",
       "| 2 | 75 | 201 | 1 |\n",
       "| 3 | 16 | 231 | 2 |\n",
       "| 4 | 47 | 231 | 2 |\n",
       "| 5 | 88 | 231 | 2 |\n",
       "| 6 | 23 | 202 | 3 |\n",
       "\n"
      ],
      "text/plain": [
       "  ID.in.cell2cell.Mx cell.ID.in.skeleton.db internal.type.ID\n",
       "1 1                  77                     201             \n",
       "2 2                  75                     201             \n",
       "3 3                  16                     231             \n",
       "4 4                  47                     231             \n",
       "5 5                  88                     231             \n",
       "6 6                  23                     202             \n",
       "  sorted.type.ID..as.in.Type.Mx.\n",
       "1 1                             \n",
       "2 1                             \n",
       "3 2                             \n",
       "4 2                             \n",
       "5 2                             \n",
       "6 3                             "
      ]
     },
     "metadata": {},
     "output_type": "display_data"
    }
   ],
   "source": [
    "head(SI4.s3)"
   ]
  },
  {
   "cell_type": "markdown",
   "metadata": {},
   "source": [
    "### Save metadata (like sortedtypeIDs)"
   ]
  },
  {
   "cell_type": "code",
   "execution_count": 26,
   "metadata": {},
   "outputs": [],
   "source": [
    "saveRDS(SI4.s3,file=file.path(dataset_path,\"SI4.s3.rds\"))"
   ]
  },
  {
   "cell_type": "code",
   "execution_count": 27,
   "metadata": {},
   "outputs": [],
   "source": [
    "# assign sorted typed id as used in the paper\n",
    "attr(sk.uniq_temp,'df')$stypeid=0\n",
    "attr(sk.uniq_temp,'df')$stypeid[match(SI4.s3$cell.ID.in.skeleton.db,attr(sk.uniq_temp,'df')$cellid)]=SI4.s3$sorted.type.ID..as.in.Type.Mx."
   ]
  },
  {
   "cell_type": "markdown",
   "metadata": {},
   "source": [
    "### Add metadata like cell type (ganglion, amacrine etc)"
   ]
  },
  {
   "cell_type": "code",
   "execution_count": 28,
   "metadata": {},
   "outputs": [],
   "source": [
    "# Make classes for \n",
    "# 1:12 ganglion\n",
    "# 13:57 amacrine\n",
    "# 58:71 bipolar\n",
    "df=attr(sk.uniq_temp,'df')\n",
    "df$class=''\n",
    "df<-within(df,class[stypeid%in%1:12]<-'ganglion')\n",
    "df<-within(df,class[stypeid%in%13:57]<-'amacrine')\n",
    "# narow 13-24\n",
    "# wide: 25, 28, 30–32, 37, 39, 41, 47, 53 and 57\n",
    "# medium: types 26, 27, 29, 33-36, 38, 40, 42–46, 48–52 and 54-57\n",
    "# typo for that last 57?\n",
    "\n",
    "df<-within(df,class[stypeid%in%58:71]<-'bipolar')\n",
    "# I assume that these must be Muller glial cells\n",
    "df<-within(df,class[stypeid%in%77]<-'glial')\n",
    "df$class=factor(df$class)\n",
    "\n",
    "df$subclass=''\n",
    "df$subclass[df$stypeid%in%13:24]='narrow field'\n",
    "df$subclass[df$stypeid%in%c(25, 28, 30:32, 37, 39, 41, 47, 53, 57)]='wide field'\n",
    "df$subclass[df$stypeid%in%c(26, 27, 29, 33:36, 38, 40, 42:46, 48:52,54:57)]='medium field'\n",
    "df$subclass=factor(df$subclass)\n",
    "\n",
    "df$ntype=''\n",
    "df$ntype[df$stypeid%in%c(33,51)]='starburst amacrine'\n",
    "attr(sk.uniq_temp,'df')=df"
   ]
  },
  {
   "cell_type": "code",
   "execution_count": 29,
   "metadata": {},
   "outputs": [],
   "source": [
    "saveRDS(sk.uniq_temp, file=file.path(dataset_path,'sk.uniq.rds'))"
   ]
  },
  {
   "cell_type": "code",
   "execution_count": 30,
   "metadata": {},
   "outputs": [
    {
     "data": {
      "text/html": [
       "'/Users/sri/Library/Application Support/R/natverse_examples/natverse_mouseconnectome/sk.uniq.rds'"
      ],
      "text/latex": [
       "'/Users/sri/Library/Application Support/R/natverse\\_examples/natverse\\_mouseconnectome/sk.uniq.rds'"
      ],
      "text/markdown": [
       "'/Users/sri/Library/Application Support/R/natverse_examples/natverse_mouseconnectome/sk.uniq.rds'"
      ],
      "text/plain": [
       "[1] \"/Users/sri/Library/Application Support/R/natverse_examples/natverse_mouseconnectome/sk.uniq.rds\""
      ]
     },
     "metadata": {},
     "output_type": "display_data"
    }
   ],
   "source": [
    "file.path(dataset_path,'sk.uniq.rds')"
   ]
  },
  {
   "cell_type": "code",
   "execution_count": null,
   "metadata": {},
   "outputs": [],
   "source": []
  },
  {
   "cell_type": "markdown",
   "metadata": {},
   "source": [
    "## Step 3: Just compare the created `r` objects with previous ones (made by Greg), this section will be removed soon.."
   ]
  },
  {
   "cell_type": "code",
   "execution_count": 33,
   "metadata": {},
   "outputs": [],
   "source": [
    "load('/Users/sri/Documents/R/dev/nat.examples/03-helmstaedter2013/sk.uniq.rda')"
   ]
  },
  {
   "cell_type": "code",
   "execution_count": 34,
   "metadata": {},
   "outputs": [
    {
     "name": "stdout",
     "output_type": "stream",
     "text": [
      "List of 2\n",
      " $ nodes: num [1:2316, 1:4] 124658 121126 121242 121390 121605 ...\n",
      " $ edges: num [1:2295, 1:2] 3 4 5 6 7 8 9 10 11 12 ...\n",
      " - attr(*, \"header\")=List of 3\n",
      "  ..$ description: chr \"MATLAB 5.0 MAT-file, Platform: MACI64, Created on: Sat Aug 17 09:49:30 2013                                                 \"\n",
      "  ..$ version    : chr \"5\"\n",
      "  ..$ endian     : chr \"little\"\n",
      " - attr(*, \"class\")= chr [1:2] \"skel\" \"list\"\n"
     ]
    }
   ],
   "source": [
    "str(sk.uniq[[1]])"
   ]
  },
  {
   "cell_type": "code",
   "execution_count": 35,
   "metadata": {},
   "outputs": [
    {
     "name": "stdout",
     "output_type": "stream",
     "text": [
      "List of 2\n",
      " $ nodes: num [1:2316, 1:4] 124658 121126 121242 121390 121605 ...\n",
      " $ edges: num [1:2295, 1:2] 3 4 5 6 7 8 9 10 11 12 ...\n",
      " - attr(*, \"class\")= chr [1:2] \"skel\" \"list\"\n"
     ]
    }
   ],
   "source": [
    "str(sk.uniq_temp[[1]])"
   ]
  },
  {
   "cell_type": "code",
   "execution_count": 36,
   "metadata": {},
   "outputs": [
    {
     "data": {
      "text/html": [
       "<table>\n",
       "<caption>A data.frame: 6 × 9</caption>\n",
       "<thead>\n",
       "\t<tr><th></th><th scope=col>skid</th><th scope=col>cellid</th><th scope=col>typeid</th><th scope=col>cellid.soma</th><th scope=col>nedges</th><th scope=col>stypeid</th><th scope=col>class</th><th scope=col>subclass</th><th scope=col>ntype</th></tr>\n",
       "\t<tr><th></th><th scope=col>&lt;int&gt;</th><th scope=col>&lt;dbl&gt;</th><th scope=col>&lt;dbl&gt;</th><th scope=col>&lt;dbl&gt;</th><th scope=col>&lt;int&gt;</th><th scope=col>&lt;dbl&gt;</th><th scope=col>&lt;fct&gt;</th><th scope=col>&lt;fct&gt;</th><th scope=col>&lt;chr&gt;</th></tr>\n",
       "</thead>\n",
       "<tbody>\n",
       "\t<tr><th scope=row>sk0003</th><td> 3</td><td>1</td><td>10204</td><td>1</td><td>2295</td><td>57</td><td>amacrine</td><td>medium field</td><td></td></tr>\n",
       "\t<tr><th scope=row>sk0012</th><td>12</td><td>2</td><td>10990</td><td>2</td><td>1259</td><td>72</td><td>        </td><td>            </td><td></td></tr>\n",
       "\t<tr><th scope=row>sk0018</th><td>18</td><td>3</td><td>10999</td><td>3</td><td>  57</td><td> 0</td><td>        </td><td>            </td><td></td></tr>\n",
       "\t<tr><th scope=row>sk0024</th><td>24</td><td>4</td><td>  181</td><td>4</td><td>4123</td><td>43</td><td>amacrine</td><td>medium field</td><td></td></tr>\n",
       "\t<tr><th scope=row>sk0027</th><td>27</td><td>5</td><td>  216</td><td>5</td><td>3865</td><td> 9</td><td>ganglion</td><td>            </td><td></td></tr>\n",
       "\t<tr><th scope=row>sk0035</th><td>35</td><td>6</td><td>  214</td><td>6</td><td>4352</td><td>10</td><td>ganglion</td><td>            </td><td></td></tr>\n",
       "</tbody>\n",
       "</table>\n"
      ],
      "text/latex": [
       "A data.frame: 6 × 9\n",
       "\\begin{tabular}{r|lllllllll}\n",
       "  & skid & cellid & typeid & cellid.soma & nedges & stypeid & class & subclass & ntype\\\\\n",
       "  & <int> & <dbl> & <dbl> & <dbl> & <int> & <dbl> & <fct> & <fct> & <chr>\\\\\n",
       "\\hline\n",
       "\tsk0003 &  3 & 1 & 10204 & 1 & 2295 & 57 & amacrine & medium field & \\\\\n",
       "\tsk0012 & 12 & 2 & 10990 & 2 & 1259 & 72 &          &              & \\\\\n",
       "\tsk0018 & 18 & 3 & 10999 & 3 &   57 &  0 &          &              & \\\\\n",
       "\tsk0024 & 24 & 4 &   181 & 4 & 4123 & 43 & amacrine & medium field & \\\\\n",
       "\tsk0027 & 27 & 5 &   216 & 5 & 3865 &  9 & ganglion &              & \\\\\n",
       "\tsk0035 & 35 & 6 &   214 & 6 & 4352 & 10 & ganglion &              & \\\\\n",
       "\\end{tabular}\n"
      ],
      "text/markdown": [
       "\n",
       "A data.frame: 6 × 9\n",
       "\n",
       "| <!--/--> | skid &lt;int&gt; | cellid &lt;dbl&gt; | typeid &lt;dbl&gt; | cellid.soma &lt;dbl&gt; | nedges &lt;int&gt; | stypeid &lt;dbl&gt; | class &lt;fct&gt; | subclass &lt;fct&gt; | ntype &lt;chr&gt; |\n",
       "|---|---|---|---|---|---|---|---|---|---|\n",
       "| sk0003 |  3 | 1 | 10204 | 1 | 2295 | 57 | amacrine | medium field | <!----> |\n",
       "| sk0012 | 12 | 2 | 10990 | 2 | 1259 | 72 | <!----> | <!----> | <!----> |\n",
       "| sk0018 | 18 | 3 | 10999 | 3 |   57 |  0 | <!----> | <!----> | <!----> |\n",
       "| sk0024 | 24 | 4 |   181 | 4 | 4123 | 43 | amacrine | medium field | <!----> |\n",
       "| sk0027 | 27 | 5 |   216 | 5 | 3865 |  9 | ganglion | <!----> | <!----> |\n",
       "| sk0035 | 35 | 6 |   214 | 6 | 4352 | 10 | ganglion | <!----> | <!----> |\n",
       "\n"
      ],
      "text/plain": [
       "       skid cellid typeid cellid.soma nedges stypeid class    subclass    \n",
       "sk0003  3   1      10204  1           2295   57      amacrine medium field\n",
       "sk0012 12   2      10990  2           1259   72                           \n",
       "sk0018 18   3      10999  3             57    0                           \n",
       "sk0024 24   4        181  4           4123   43      amacrine medium field\n",
       "sk0027 27   5        216  5           3865    9      ganglion             \n",
       "sk0035 35   6        214  6           4352   10      ganglion             \n",
       "       ntype\n",
       "sk0003      \n",
       "sk0012      \n",
       "sk0018      \n",
       "sk0024      \n",
       "sk0027      \n",
       "sk0035      "
      ]
     },
     "metadata": {},
     "output_type": "display_data"
    }
   ],
   "source": [
    "head(attr(sk.uniq_temp,'df'))"
   ]
  },
  {
   "cell_type": "code",
   "execution_count": 37,
   "metadata": {},
   "outputs": [
    {
     "data": {
      "text/html": [
       "<table>\n",
       "<caption>A data.frame: 6 × 9</caption>\n",
       "<thead>\n",
       "\t<tr><th></th><th scope=col>skid</th><th scope=col>cellid</th><th scope=col>typeid</th><th scope=col>cellid.soma</th><th scope=col>nedges</th><th scope=col>stypeid</th><th scope=col>class</th><th scope=col>subclass</th><th scope=col>ntype</th></tr>\n",
       "\t<tr><th></th><th scope=col>&lt;int&gt;</th><th scope=col>&lt;dbl&gt;</th><th scope=col>&lt;dbl&gt;</th><th scope=col>&lt;dbl&gt;</th><th scope=col>&lt;int&gt;</th><th scope=col>&lt;dbl&gt;</th><th scope=col>&lt;fct&gt;</th><th scope=col>&lt;fct&gt;</th><th scope=col>&lt;chr&gt;</th></tr>\n",
       "</thead>\n",
       "<tbody>\n",
       "\t<tr><th scope=row>sk0003</th><td> 3</td><td>1</td><td>10204</td><td>1</td><td>2295</td><td>57</td><td>amacrine</td><td>medium field</td><td></td></tr>\n",
       "\t<tr><th scope=row>sk0012</th><td>12</td><td>2</td><td>10990</td><td>2</td><td>1259</td><td>72</td><td>        </td><td>            </td><td></td></tr>\n",
       "\t<tr><th scope=row>sk0018</th><td>18</td><td>3</td><td>10999</td><td>3</td><td>  57</td><td> 0</td><td>        </td><td>            </td><td></td></tr>\n",
       "\t<tr><th scope=row>sk0024</th><td>24</td><td>4</td><td>  181</td><td>4</td><td>4123</td><td>43</td><td>amacrine</td><td>medium field</td><td></td></tr>\n",
       "\t<tr><th scope=row>sk0027</th><td>27</td><td>5</td><td>  216</td><td>5</td><td>3865</td><td> 9</td><td>ganglion</td><td>            </td><td></td></tr>\n",
       "\t<tr><th scope=row>sk0035</th><td>35</td><td>6</td><td>  214</td><td>6</td><td>4352</td><td>10</td><td>ganglion</td><td>            </td><td></td></tr>\n",
       "</tbody>\n",
       "</table>\n"
      ],
      "text/latex": [
       "A data.frame: 6 × 9\n",
       "\\begin{tabular}{r|lllllllll}\n",
       "  & skid & cellid & typeid & cellid.soma & nedges & stypeid & class & subclass & ntype\\\\\n",
       "  & <int> & <dbl> & <dbl> & <dbl> & <int> & <dbl> & <fct> & <fct> & <chr>\\\\\n",
       "\\hline\n",
       "\tsk0003 &  3 & 1 & 10204 & 1 & 2295 & 57 & amacrine & medium field & \\\\\n",
       "\tsk0012 & 12 & 2 & 10990 & 2 & 1259 & 72 &          &              & \\\\\n",
       "\tsk0018 & 18 & 3 & 10999 & 3 &   57 &  0 &          &              & \\\\\n",
       "\tsk0024 & 24 & 4 &   181 & 4 & 4123 & 43 & amacrine & medium field & \\\\\n",
       "\tsk0027 & 27 & 5 &   216 & 5 & 3865 &  9 & ganglion &              & \\\\\n",
       "\tsk0035 & 35 & 6 &   214 & 6 & 4352 & 10 & ganglion &              & \\\\\n",
       "\\end{tabular}\n"
      ],
      "text/markdown": [
       "\n",
       "A data.frame: 6 × 9\n",
       "\n",
       "| <!--/--> | skid &lt;int&gt; | cellid &lt;dbl&gt; | typeid &lt;dbl&gt; | cellid.soma &lt;dbl&gt; | nedges &lt;int&gt; | stypeid &lt;dbl&gt; | class &lt;fct&gt; | subclass &lt;fct&gt; | ntype &lt;chr&gt; |\n",
       "|---|---|---|---|---|---|---|---|---|---|\n",
       "| sk0003 |  3 | 1 | 10204 | 1 | 2295 | 57 | amacrine | medium field | <!----> |\n",
       "| sk0012 | 12 | 2 | 10990 | 2 | 1259 | 72 | <!----> | <!----> | <!----> |\n",
       "| sk0018 | 18 | 3 | 10999 | 3 |   57 |  0 | <!----> | <!----> | <!----> |\n",
       "| sk0024 | 24 | 4 |   181 | 4 | 4123 | 43 | amacrine | medium field | <!----> |\n",
       "| sk0027 | 27 | 5 |   216 | 5 | 3865 |  9 | ganglion | <!----> | <!----> |\n",
       "| sk0035 | 35 | 6 |   214 | 6 | 4352 | 10 | ganglion | <!----> | <!----> |\n",
       "\n"
      ],
      "text/plain": [
       "       skid cellid typeid cellid.soma nedges stypeid class    subclass    \n",
       "sk0003  3   1      10204  1           2295   57      amacrine medium field\n",
       "sk0012 12   2      10990  2           1259   72                           \n",
       "sk0018 18   3      10999  3             57    0                           \n",
       "sk0024 24   4        181  4           4123   43      amacrine medium field\n",
       "sk0027 27   5        216  5           3865    9      ganglion             \n",
       "sk0035 35   6        214  6           4352   10      ganglion             \n",
       "       ntype\n",
       "sk0003      \n",
       "sk0012      \n",
       "sk0018      \n",
       "sk0024      \n",
       "sk0027      \n",
       "sk0035      "
      ]
     },
     "metadata": {},
     "output_type": "display_data"
    }
   ],
   "source": [
    "head(attr(sk.uniq,'df'))"
   ]
  },
  {
   "cell_type": "code",
   "execution_count": 38,
   "metadata": {},
   "outputs": [
    {
     "data": {
      "text/html": [
       "TRUE"
      ],
      "text/latex": [
       "TRUE"
      ],
      "text/markdown": [
       "TRUE"
      ],
      "text/plain": [
       "[1] TRUE"
      ]
     },
     "metadata": {},
     "output_type": "display_data"
    }
   ],
   "source": [
    "all.equal(attr(sk.uniq,'df'),attr(sk.uniq_temp,'df'))"
   ]
  },
  {
   "cell_type": "code",
   "execution_count": 39,
   "metadata": {},
   "outputs": [
    {
     "data": {
      "text/html": [
       "TRUE"
      ],
      "text/latex": [
       "TRUE"
      ],
      "text/markdown": [
       "TRUE"
      ],
      "text/plain": [
       "[1] TRUE"
      ]
     },
     "metadata": {},
     "output_type": "display_data"
    }
   ],
   "source": [
    "all.equal(sk.uniq,sk.uniq_temp, check.attributes = F)"
   ]
  },
  {
   "cell_type": "code",
   "execution_count": null,
   "metadata": {},
   "outputs": [],
   "source": []
  },
  {
   "cell_type": "markdown",
   "metadata": {},
   "source": [
    "## Step 4: Visualization of neurons.."
   ]
  },
  {
   "cell_type": "markdown",
   "metadata": {},
   "source": [
    "### Step 4a: Define functions for converting a neuron in Moritz's format to nat's internal neuron format.."
   ]
  },
  {
   "cell_type": "code",
   "execution_count": 40,
   "metadata": {},
   "outputs": [],
   "source": [
    "#install.packages(\"/Users/sri/Documents/R/dev/nat\",repos = NULL, \n",
    "#type = \"source\",force=T)"
   ]
  },
  {
   "cell_type": "code",
   "execution_count": 41,
   "metadata": {},
   "outputs": [
    {
     "name": "stderr",
     "output_type": "stream",
     "text": [
      "Loading required package: rgl\n",
      "\n",
      "Attaching package: ‘nat’\n",
      "\n",
      "The following object is masked from ‘package:gdata’:\n",
      "\n",
      "    resample\n",
      "\n",
      "The following objects are masked from ‘package:base’:\n",
      "\n",
      "    intersect, setdiff, union\n",
      "\n"
     ]
    }
   ],
   "source": [
    "library(nat)"
   ]
  },
  {
   "cell_type": "code",
   "execution_count": 42,
   "metadata": {},
   "outputs": [],
   "source": [
    "#' Convert Helmstaedter's matlab skel format into nat::neuron objects\n",
    "#' \n",
    "#' @description skel objects are my direct R translation of the matlab data\n",
    "#'   provided by Briggman, Helmstaedter and Denk.\n",
    "#' @param x A skel format neuron to convert\n",
    "#' @param ... arguments passed to as.neuron\n",
    "#' @return An object of class \\code{neuron}\n",
    "#' @seealso \\code{\\link{as.neuron}}\n",
    "as.neuron.skel<-function(x, ...) {\n",
    "  as.neuron(as.ngraph(x), ...)\n",
    "}"
   ]
  },
  {
   "cell_type": "code",
   "execution_count": 43,
   "metadata": {},
   "outputs": [],
   "source": [
    "#' Convert Helmstaedter's matlab skel format into nat::ngraph objects\n",
    "#' \n",
    "#' @details \\code{ngraph} objects are thin wrappers for \\code{igraph::graph} \n",
    "#'   objects.\n",
    "#'   \n",
    "#'   This function always removes self edges (i.e. when a node is connected to \n",
    "#'   itself), which seem to be used as a placeholder in the Helmstaedter dataset\n",
    "#'   when there are no valid edges.\n",
    "#'   \n",
    "#'   Isolated nodes are also removed by default (i.e. the nodes that are not\n",
    "#'   connected by any edges.)\n",
    "#' @param remove.isolated Whether or not to remove isolated nodes from the graph\n",
    "#'   (see Details).\n",
    "#' @inheritParams as.neuron.skel\n",
    "#' @seealso \\code{\\link[nat]{ngraph}}, \\code{\\link{as.neuron.skel}}\n",
    "as.ngraph.skel<-function(x, remove.isolated=TRUE, ...) {\n",
    "  self_edges=x$edges[,1]==x$edges[,2]\n",
    "  if(sum(self_edges)>0){\n",
    "    if(sum(self_edges)==nrow(x$edges)){\n",
    "      # there are only self edges - make a dummy empty edge matrix\n",
    "      x$edges=matrix(nrow=0, ncol=2)\n",
    "    } else {\n",
    "      x$edges[!self_edges, , drop=FALSE]\n",
    "    }\n",
    "  }\n",
    "  ng=ngraph(x$edges, vertexnames = seq_len(nrow(x$nodes)), xyz=x$nodes, ...)\n",
    "  if(remove.isolated){\n",
    "    isolated_vertices=igraph::V(ng)[igraph::degree(ng)==0]\n",
    "    g=igraph::delete.vertices(graph=ng,isolated_vertices)\n",
    "    ng=as.ngraph(g)\n",
    "  }\n",
    "}"
   ]
  },
  {
   "cell_type": "code",
   "execution_count": 44,
   "metadata": {},
   "outputs": [],
   "source": [
    "options(nat.progress=\"none\")"
   ]
  },
  {
   "cell_type": "code",
   "execution_count": 45,
   "metadata": {},
   "outputs": [],
   "source": [
    "options(warn=-1)\n",
    "skn=nlapply(sk.uniq_temp, as.neuron, OmitFailures = T, Verbose = FALSE)\n",
    "options(warn=0)"
   ]
  },
  {
   "cell_type": "code",
   "execution_count": 46,
   "metadata": {},
   "outputs": [
    {
     "data": {
      "text/html": [
       "<ol class=list-inline>\n",
       "\t<li>'neuron'</li>\n",
       "\t<li>'list'</li>\n",
       "</ol>\n"
      ],
      "text/latex": [
       "\\begin{enumerate*}\n",
       "\\item 'neuron'\n",
       "\\item 'list'\n",
       "\\end{enumerate*}\n"
      ],
      "text/markdown": [
       "1. 'neuron'\n",
       "2. 'list'\n",
       "\n",
       "\n"
      ],
      "text/plain": [
       "[1] \"neuron\" \"list\"  "
      ]
     },
     "metadata": {},
     "output_type": "display_data"
    }
   ],
   "source": [
    "class(skn[[1]])"
   ]
  },
  {
   "cell_type": "code",
   "execution_count": 47,
   "metadata": {},
   "outputs": [],
   "source": [
    "#options(nat.plotengine = 'plotly')\n",
    "#getOption('nat.plotengine')"
   ]
  },
  {
   "cell_type": "code",
   "execution_count": 48,
   "metadata": {},
   "outputs": [
    {
     "name": "stderr",
     "output_type": "stream",
     "text": [
      "Loading required package: ggplot2\n",
      "\n",
      "Attaching package: ‘plotly’\n",
      "\n",
      "The following object is masked from ‘package:ggplot2’:\n",
      "\n",
      "    last_plot\n",
      "\n",
      "The following object is masked from ‘package:stats’:\n",
      "\n",
      "    filter\n",
      "\n",
      "The following object is masked from ‘package:graphics’:\n",
      "\n",
      "    layout\n",
      "\n"
     ]
    }
   ],
   "source": [
    "library(htmlwidgets)\n",
    "library(plotly)\n",
    "library(IRdisplay)"
   ]
  },
  {
   "cell_type": "code",
   "execution_count": 54,
   "metadata": {},
   "outputs": [],
   "source": [
    "clearplotlyscene()\n",
    "tempval <- plot3d(skn[1:5], plotengine ='plotly', soma = TRUE)\n",
    "#tempval$plotlyscenehandle"
   ]
  },
  {
   "cell_type": "code",
   "execution_count": 55,
   "metadata": {},
   "outputs": [
    {
     "data": {
      "text/html": [
       "<iframe src=\"helmstaedter2013_01.html\" width=100%, height=500> frameborder=\"0\" </iframe>"
      ]
     },
     "metadata": {},
     "output_type": "display_data"
    }
   ],
   "source": [
    "htmlwidgets::saveWidget(plotly::as_widget(tempval$plotlyscenehandle), 'helmstaedter2013_01.html')\n",
    "IRdisplay::display_html(paste0('<iframe src=\"','helmstaedter2013_01.html\" width=100%, height=500> frameborder=\"0\" </iframe>'))"
   ]
  },
  {
   "cell_type": "code",
   "execution_count": 60,
   "metadata": {},
   "outputs": [],
   "source": [
    "clearplotlyscene()\n",
    "tempval <- plot3d(skn,ntype=='starburst amacrine',col=stypeid, plotengine = 'plotly', soma = TRUE, alpha = 0.5)\n",
    "#tempval$plotlyscenehandle"
   ]
  },
  {
   "cell_type": "code",
   "execution_count": 61,
   "metadata": {},
   "outputs": [
    {
     "data": {
      "text/html": [
       "<iframe src=\"helmstaedter2013_02.html\" width=100%, height=500> frameborder=\"0\" </iframe>"
      ]
     },
     "metadata": {},
     "output_type": "display_data"
    }
   ],
   "source": [
    "htmlwidgets::saveWidget(plotly::as_widget(tempval$plotlyscenehandle), 'helmstaedter2013_02.html')\n",
    "IRdisplay::display_html(paste0('<iframe src=\"','helmstaedter2013_02.html\" width=100%, height=500> frameborder=\"0\" </iframe>'))"
   ]
  },
  {
   "cell_type": "code",
   "execution_count": 62,
   "metadata": {},
   "outputs": [
    {
     "data": {
      "text/plain": [
       "R version 3.6.0 (2019-04-26)\n",
       "Platform: x86_64-apple-darwin15.6.0 (64-bit)\n",
       "Running under: macOS Mojave 10.14.3\n",
       "\n",
       "Matrix products: default\n",
       "BLAS:   /Library/Frameworks/R.framework/Versions/3.6/Resources/lib/libRblas.0.dylib\n",
       "LAPACK: /Library/Frameworks/R.framework/Versions/3.6/Resources/lib/libRlapack.dylib\n",
       "\n",
       "locale:\n",
       "[1] en_GB.UTF-8/en_GB.UTF-8/en_GB.UTF-8/C/en_GB.UTF-8/en_GB.UTF-8\n",
       "\n",
       "attached base packages:\n",
       "[1] stats     graphics  grDevices utils     datasets  methods   base     \n",
       "\n",
       "other attached packages:\n",
       " [1] IRdisplay_0.7.0   plotly_4.9.0.9000 ggplot2_3.2.1     htmlwidgets_1.3  \n",
       " [5] nat_1.9.1.9000    rgl_0.100.19      Matrix_1.2-17     gdata_2.18.0     \n",
       " [9] R.matlab_3.6.2    curl_4.0         \n",
       "\n",
       "loaded via a namespace (and not attached):\n",
       " [1] Rcpp_1.0.2              lattice_0.20-38         tidyr_0.8.3            \n",
       " [4] gtools_3.8.1            assertthat_0.2.1        zeallot_0.1.0          \n",
       " [7] digest_0.6.20           mime_0.7                R6_2.4.0               \n",
       "[10] plyr_1.8.4              repr_1.0.1              backports_1.1.4        \n",
       "[13] evaluate_0.14           httr_1.4.0              pillar_1.4.2           \n",
       "[16] rlang_0.4.0             lazyeval_0.2.2          uuid_0.1-2             \n",
       "[19] data.table_1.12.2       miniUI_0.1.1.1          R.utils_2.9.0          \n",
       "[22] R.oo_1.22.0             webshot_0.5.1           igraph_1.2.4.1         \n",
       "[25] munsell_0.5.0           shiny_1.3.2             compiler_3.6.0         \n",
       "[28] httpuv_1.5.1            xfun_0.8.1              pkgconfig_2.0.2        \n",
       "[31] base64enc_0.1-3         htmltools_0.3.6         tidyselect_0.2.5       \n",
       "[34] tibble_2.1.3            codetools_0.2-16        viridisLite_0.3.0      \n",
       "[37] withr_2.1.2             crayon_1.3.4            dplyr_0.8.1            \n",
       "[40] later_0.8.0             nat.utils_0.5.1         R.methodsS3_1.7.1      \n",
       "[43] rappdirs_0.3.1          grid_3.6.0              jsonlite_1.6           \n",
       "[46] xtable_1.8-4            gtable_0.3.0            magrittr_1.5           \n",
       "[49] scales_1.0.0            nabor_0.5.0             promises_1.0.1         \n",
       "[52] vctrs_0.2.0             IRkernel_1.0.2.9000     tools_3.6.0            \n",
       "[55] manipulateWidget_0.10.0 glue_1.3.1              purrr_0.3.2            \n",
       "[58] crosstalk_1.0.0         yaml_2.2.0              colorspace_1.4-1       \n",
       "[61] filehash_2.4-2          pbdZMQ_0.3-3            knitr_1.23             "
      ]
     },
     "metadata": {},
     "output_type": "display_data"
    }
   ],
   "source": [
    "sessionInfo()"
   ]
  },
  {
   "cell_type": "code",
   "execution_count": null,
   "metadata": {},
   "outputs": [],
   "source": []
  }
 ],
 "metadata": {
  "kernelspec": {
   "display_name": "R",
   "language": "R",
   "name": "ir"
  },
  "language_info": {
   "codemirror_mode": "r",
   "file_extension": ".r",
   "mimetype": "text/x-r-source",
   "name": "R",
   "pygments_lexer": "r",
   "version": "3.6.0"
  }
 },
 "nbformat": 4,
 "nbformat_minor": 2
}
